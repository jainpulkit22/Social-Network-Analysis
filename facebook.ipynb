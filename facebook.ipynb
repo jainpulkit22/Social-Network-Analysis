{
 "cells": [
  {
   "cell_type": "code",
   "execution_count": 1,
   "metadata": {},
   "outputs": [],
   "source": [
    "import networkx as nx\n",
    "import math"
   ]
  },
  {
   "cell_type": "code",
   "execution_count": 2,
   "metadata": {},
   "outputs": [],
   "source": [
    "import csv"
   ]
  },
  {
   "cell_type": "code",
   "execution_count": 3,
   "metadata": {},
   "outputs": [],
   "source": [
    "from operator import itemgetter"
   ]
  },
  {
   "cell_type": "code",
   "execution_count": 5,
   "metadata": {},
   "outputs": [],
   "source": [
    "with open('facebook.csv', 'r') as edgecsv:\n",
    "    edgereader = csv.reader(edgecsv)\n",
    "    edges = [tuple(e) for e in edgereader][1:]"
   ]
  },
  {
   "cell_type": "code",
   "execution_count": 6,
   "metadata": {},
   "outputs": [
    {
     "name": "stdout",
     "output_type": "stream",
     "text": [
      "88234\n"
     ]
    }
   ],
   "source": [
    "print(len(edges))"
   ]
  },
  {
   "cell_type": "code",
   "execution_count": 7,
   "metadata": {},
   "outputs": [
    {
     "name": "stdout",
     "output_type": "stream",
     "text": [
      "('0', '1')\n"
     ]
    }
   ],
   "source": [
    "print(edges[0])"
   ]
  },
  {
   "cell_type": "code",
   "execution_count": 8,
   "metadata": {},
   "outputs": [],
   "source": [
    "G = nx.Graph()"
   ]
  },
  {
   "cell_type": "code",
   "execution_count": 9,
   "metadata": {},
   "outputs": [],
   "source": [
    "G.add_edges_from(edges)"
   ]
  },
  {
   "cell_type": "code",
   "execution_count": 10,
   "metadata": {},
   "outputs": [
    {
     "name": "stdout",
     "output_type": "stream",
     "text": [
      "Name: \n",
      "Type: Graph\n",
      "Number of nodes: 4039\n",
      "Number of edges: 88234\n",
      "Average degree:  43.6910\n"
     ]
    }
   ],
   "source": [
    "print(nx.info(G))"
   ]
  },
  {
   "cell_type": "code",
   "execution_count": 11,
   "metadata": {},
   "outputs": [
    {
     "name": "stdout",
     "output_type": "stream",
     "text": [
      "True\n"
     ]
    }
   ],
   "source": [
    "print(nx.is_connected(G))"
   ]
  },
  {
   "cell_type": "code",
   "execution_count": 12,
   "metadata": {},
   "outputs": [],
   "source": [
    "degree_dict = dict(G.degree(G.nodes()))\n",
    "nx.set_node_attributes(G, degree_dict, 'degree')"
   ]
  },
  {
   "cell_type": "code",
   "execution_count": 13,
   "metadata": {},
   "outputs": [
    {
     "name": "stdout",
     "output_type": "stream",
     "text": [
      "Top 10 nodes by degree:\n",
      "('107', 1045)\n",
      "('1684', 792)\n",
      "('1912', 755)\n",
      "('3437', 547)\n",
      "('0', 347)\n",
      "('2543', 294)\n",
      "('2347', 291)\n",
      "('1888', 254)\n",
      "('1800', 245)\n",
      "('1663', 235)\n"
     ]
    }
   ],
   "source": [
    "sorted_degree = sorted(degree_dict.items(), key=itemgetter(1), reverse=True)\n",
    "print(\"Top 10 nodes by degree:\")\n",
    "for d in sorted_degree[:10]:\n",
    "    print(d)"
   ]
  },
  {
   "cell_type": "code",
   "execution_count": 14,
   "metadata": {},
   "outputs": [
    {
     "name": "stdout",
     "output_type": "stream",
     "text": [
      "Last 10 nodes by degree:\n",
      "('11', 1)\n",
      "('12', 1)\n",
      "('15', 1)\n",
      "('18', 1)\n",
      "('37', 1)\n",
      "('43', 1)\n",
      "('74', 1)\n",
      "('114', 1)\n",
      "('209', 1)\n",
      "('210', 1)\n"
     ]
    }
   ],
   "source": [
    "sorted_degree = sorted(degree_dict.items(), key=itemgetter(1), reverse=False)\n",
    "print(\"Last 10 nodes by degree:\")\n",
    "for d in sorted_degree[:10]:\n",
    "    print(d)"
   ]
  },
  {
   "cell_type": "code",
   "execution_count": 15,
   "metadata": {},
   "outputs": [],
   "source": [
    "eigenvector_dict = nx.eigenvector_centrality(G)"
   ]
  },
  {
   "cell_type": "code",
   "execution_count": 16,
   "metadata": {},
   "outputs": [],
   "source": [
    "nx.set_node_attributes(G, eigenvector_dict, 'eigenvector')"
   ]
  },
  {
   "cell_type": "code",
   "execution_count": 17,
   "metadata": {},
   "outputs": [],
   "source": [
    "sorted_eigenvector = sorted(eigenvector_dict.items(), key=itemgetter(1), reverse=True)"
   ]
  },
  {
   "cell_type": "code",
   "execution_count": 18,
   "metadata": {},
   "outputs": [
    {
     "name": "stdout",
     "output_type": "stream",
     "text": [
      "Top 10 nodes by eigenvector centrality:\n",
      "('1912', 0.09540696149067629)\n",
      "('2266', 0.08698327767886553)\n",
      "('2206', 0.08605239270584343)\n",
      "('2233', 0.08517340912756598)\n",
      "('2464', 0.08427877475676092)\n",
      "('2142', 0.08419311897991796)\n",
      "('2218', 0.08415573568055032)\n",
      "('2078', 0.08413617041724979)\n",
      "('2123', 0.08367141238206226)\n",
      "('1993', 0.0835324284081597)\n"
     ]
    }
   ],
   "source": [
    "print(\"Top 10 nodes by eigenvector centrality:\")\n",
    "for b in sorted_eigenvector[:10]:\n",
    "    print(b\n",
    "         )"
   ]
  },
  {
   "cell_type": "code",
   "execution_count": 19,
   "metadata": {},
   "outputs": [],
   "source": [
    "sorted_eigenvector = sorted(eigenvector_dict.items(), key=itemgetter(1), reverse=False)"
   ]
  },
  {
   "cell_type": "code",
   "execution_count": 20,
   "metadata": {},
   "outputs": [
    {
     "name": "stdout",
     "output_type": "stream",
     "text": [
      "Last 10 nodes by eigenvector centrality:\n",
      "('692', 6.385265348738539e-14)\n",
      "('801', 6.385265348738539e-14)\n",
      "('749', 6.43319522572775e-14)\n",
      "('775', 6.43319522572775e-14)\n",
      "('841', 6.446054867536052e-14)\n",
      "('699', 6.477107636858494e-14)\n",
      "('788', 6.5818856751369e-14)\n",
      "('743', 6.607729482111816e-14)\n",
      "('750', 6.638012688883886e-14)\n",
      "('802', 6.715200126925856e-14)\n"
     ]
    }
   ],
   "source": [
    "print(\"Last 10 nodes by eigenvector centrality:\")\n",
    "for b in sorted_eigenvector[:10]:\n",
    "    print(b)"
   ]
  },
  {
   "cell_type": "code",
   "execution_count": 21,
   "metadata": {},
   "outputs": [],
   "source": [
    "closeness_dict = nx.closeness_centrality(G)"
   ]
  },
  {
   "cell_type": "code",
   "execution_count": 24,
   "metadata": {},
   "outputs": [],
   "source": [
    "nx.set_node_attributes(G, closeness_dict, 'closeness')"
   ]
  },
  {
   "cell_type": "code",
   "execution_count": 25,
   "metadata": {},
   "outputs": [],
   "source": [
    "sorted_closeness = sorted(closeness_dict.items(), key=itemgetter(1), reverse=True)"
   ]
  },
  {
   "cell_type": "code",
   "execution_count": 26,
   "metadata": {},
   "outputs": [
    {
     "name": "stdout",
     "output_type": "stream",
     "text": [
      "Top 10 nodes by closeness centrality:\n",
      "('107', 0.45969945355191255)\n",
      "('58', 0.3974018305284913)\n",
      "('428', 0.3948371956585509)\n",
      "('563', 0.3939127889961955)\n",
      "('1684', 0.39360561458231796)\n",
      "('171', 0.37049270575282134)\n",
      "('348', 0.36991572004397216)\n",
      "('483', 0.3698479575013739)\n",
      "('414', 0.3695433330282786)\n",
      "('376', 0.36655773420479304)\n"
     ]
    }
   ],
   "source": [
    "print(\"Top 10 nodes by closeness centrality:\")\n",
    "for b in sorted_closeness[:10]:\n",
    "    print(b)"
   ]
  },
  {
   "cell_type": "code",
   "execution_count": 27,
   "metadata": {},
   "outputs": [],
   "source": [
    "sorted_closeness = sorted(closeness_dict.items(), key=itemgetter(1), reverse=False)"
   ]
  },
  {
   "cell_type": "code",
   "execution_count": 28,
   "metadata": {},
   "outputs": [
    {
     "name": "stdout",
     "output_type": "stream",
     "text": [
      "Last 10 nodes by closeness centrality:\n",
      "('692', 0.1782545358230698)\n",
      "('801', 0.1782545358230698)\n",
      "('699', 0.17826240508564364)\n",
      "('744', 0.17826240508564364)\n",
      "('749', 0.17826240508564364)\n",
      "('750', 0.17826240508564364)\n",
      "('775', 0.17826240508564364)\n",
      "('841', 0.17826240508564364)\n",
      "('743', 0.17827027504304446)\n",
      "('785', 0.17827027504304446)\n"
     ]
    }
   ],
   "source": [
    "print(\"Last 10 nodes by closeness centrality:\")\n",
    "for b in sorted_closeness[:10]:\n",
    "    print(b)"
   ]
  },
  {
   "cell_type": "code",
   "execution_count": 29,
   "metadata": {},
   "outputs": [],
   "source": [
    "betweenness_dict = nx.betweenness_centrality(G)"
   ]
  },
  {
   "cell_type": "code",
   "execution_count": 30,
   "metadata": {},
   "outputs": [],
   "source": [
    "nx.set_node_attributes(G, betweenness_dict, 'betweenness')"
   ]
  },
  {
   "cell_type": "code",
   "execution_count": 31,
   "metadata": {},
   "outputs": [],
   "source": [
    "sorted_betweenness = sorted(betweenness_dict.items(), key=itemgetter(1), reverse=True)"
   ]
  },
  {
   "cell_type": "code",
   "execution_count": 32,
   "metadata": {},
   "outputs": [
    {
     "name": "stdout",
     "output_type": "stream",
     "text": [
      "Top 10 nodes by betweenness centrality:\n",
      "('107', 0.4805180785560152)\n",
      "('1684', 0.3377974497301992)\n",
      "('3437', 0.23611535735892905)\n",
      "('1912', 0.2292953395868782)\n",
      "('1085', 0.14901509211665306)\n",
      "('0', 0.14630592147442917)\n",
      "('698', 0.11533045020560802)\n",
      "('567', 0.09631033121856215)\n",
      "('58', 0.08436020590796486)\n",
      "('428', 0.06430906239323866)\n"
     ]
    }
   ],
   "source": [
    "print(\"Top 10 nodes by betweenness centrality:\")\n",
    "for b in sorted_betweenness[:10]:\n",
    "    print(b)"
   ]
  },
  {
   "cell_type": "code",
   "execution_count": 33,
   "metadata": {},
   "outputs": [],
   "source": [
    "sorted_betweenness = sorted(betweenness_dict.items(), key=itemgetter(1), reverse=False)"
   ]
  },
  {
   "cell_type": "code",
   "execution_count": 34,
   "metadata": {},
   "outputs": [
    {
     "name": "stdout",
     "output_type": "stream",
     "text": [
      "Last 10 nodes by betweenness centrality:\n",
      "('11', 0.0)\n",
      "('12', 0.0)\n",
      "('15', 0.0)\n",
      "('18', 0.0)\n",
      "('32', 0.0)\n",
      "('33', 0.0)\n",
      "('35', 0.0)\n",
      "('37', 0.0)\n",
      "('42', 0.0)\n",
      "('43', 0.0)\n"
     ]
    }
   ],
   "source": [
    "print(\"Last 10 nodes by betweenness centrality:\")\n",
    "for b in sorted_betweenness[:10]:\n",
    "    print(b)"
   ]
  },
  {
   "cell_type": "code",
   "execution_count": 35,
   "metadata": {},
   "outputs": [
    {
     "name": "stderr",
     "output_type": "stream",
     "text": [
      "c:\\python\\python38\\lib\\site-packages\\networkx\\algorithms\\centrality\\katz.py:183: ComplexWarning: Casting complex values to real discards the imaginary part\n",
      "  s = 1.0 / sqrt(sum(v ** 2 for v in x.values()))\n"
     ]
    }
   ],
   "source": [
    "phi = max(nx.adjacency_spectrum(G))\n",
    "katz_dict = nx.katz_centrality(G,1/phi - 0.01, 0.001)\n",
    "nx.set_node_attributes(G, katz_dict, 'katz')"
   ]
  },
  {
   "cell_type": "code",
   "execution_count": 36,
   "metadata": {},
   "outputs": [
    {
     "name": "stdout",
     "output_type": "stream",
     "text": [
      "Top 10 nodes by katz centrality:\n",
      "('911', (0.01780310226015186+0j))\n",
      "('918', (0.01780310226015186+0j))\n",
      "('1096', (0.01780310226015186+0j))\n",
      "('1119', (0.01780310226015186+0j))\n",
      "('1145', (0.01780310226015186+0j))\n",
      "('1206', (0.01780310226015186+0j))\n",
      "('1386', (0.01780310226015186+0j))\n",
      "('1466', (0.01780310226015186+0j))\n",
      "('1560', (0.01780310226015186+0j))\n",
      "('1581', (0.01780310226015186+0j))\n"
     ]
    }
   ],
   "source": [
    "sorted_katz = sorted(katz_dict.items(), key=itemgetter(1), reverse=True)\n",
    "print(\"Top 10 nodes by katz centrality:\")\n",
    "for b in sorted_katz[:10]:\n",
    "    print(b)"
   ]
  },
  {
   "cell_type": "code",
   "execution_count": 37,
   "metadata": {},
   "outputs": [
    {
     "name": "stdout",
     "output_type": "stream",
     "text": [
      "Last 10 nodes by Katz centrality:\n",
      "('107', (-0.042813262048434754+0j))\n",
      "('1684', (-0.030101814394687336+0j))\n",
      "('1912', (-0.02330896350587781+0j))\n",
      "('3437', (-0.01727177567738184+0j))\n",
      "('0', (-0.004465395910697204+0j))\n",
      "('348', (0.003971060331545624+0j))\n",
      "('2543', (0.004439979827401305+0j))\n",
      "('2347', (0.004762160134567035+0j))\n",
      "('483', (0.004766109515007895+0j))\n",
      "('1888', (0.005533079400974153+0j))\n"
     ]
    }
   ],
   "source": [
    "sorted_katz = sorted(katz_dict.items(), key=itemgetter(1), reverse=False)\n",
    "print(\"Last 10 nodes by Katz centrality:\")\n",
    "for b in sorted_katz[:10]:\n",
    "    print(b)"
   ]
  },
  {
   "cell_type": "code",
   "execution_count": 38,
   "metadata": {},
   "outputs": [],
   "source": [
    "pagerank_dict = nx.pagerank(G,0.9)\n",
    "nx.set_node_attributes(G, pagerank_dict, 'pagerank')"
   ]
  },
  {
   "cell_type": "code",
   "execution_count": 39,
   "metadata": {},
   "outputs": [
    {
     "name": "stdout",
     "output_type": "stream",
     "text": [
      "Top 10 nodes by Pagerank centrality:\n",
      "('3437', 0.0075486383122593936)\n",
      "('107', 0.006674335170515213)\n",
      "('1684', 0.0062127563509936385)\n",
      "('0', 0.006079606981157082)\n",
      "('1912', 0.0036943298880784793)\n",
      "('348', 0.002256043753096586)\n",
      "('686', 0.0022167595439287363)\n",
      "('3980', 0.0021526673819292747)\n",
      "('414', 0.0017198586439191863)\n",
      "('483', 0.0013718785902134194)\n"
     ]
    }
   ],
   "source": [
    "sorted_pagerank = sorted(pagerank_dict.items(), key=itemgetter(1), reverse=True)\n",
    "print(\"Top 10 nodes by Pagerank centrality:\")\n",
    "for b in sorted_pagerank[:10]:\n",
    "    print(b)"
   ]
  },
  {
   "cell_type": "code",
   "execution_count": 40,
   "metadata": {},
   "outputs": [
    {
     "name": "stdout",
     "output_type": "stream",
     "text": [
      "Last 10 nodes by Pagerank centrality:\n",
      "('2079', 2.918767413687635e-05)\n",
      "('2195', 2.918767413687635e-05)\n",
      "('2269', 2.918767413687635e-05)\n",
      "('2457', 2.918767413687635e-05)\n",
      "('2470', 2.918767413687635e-05)\n",
      "('2569', 2.918767413687635e-05)\n",
      "('2596', 2.918767413687635e-05)\n",
      "('911', 3.052361074398561e-05)\n",
      "('918', 3.052361074398561e-05)\n",
      "('1096', 3.052361074398561e-05)\n"
     ]
    }
   ],
   "source": [
    "sorted_pagerank = sorted(pagerank_dict.items(), key=itemgetter(1), reverse=False)\n",
    "print(\"Last 10 nodes by Pagerank centrality:\")\n",
    "for b in sorted_pagerank[:10]:\n",
    "    print(b)"
   ]
  },
  {
   "cell_type": "code",
   "execution_count": 12,
   "metadata": {},
   "outputs": [],
   "source": [
    "C = ['0', '1']"
   ]
  },
  {
   "cell_type": "code",
   "execution_count": 13,
   "metadata": {},
   "outputs": [],
   "source": [
    "groupcloseness_dict = nx.group_closeness_centrality(G,C)\n",
    "nx.set_node_attributes(G, groupcloseness_dict, 'groupcloseness')"
   ]
  },
  {
   "cell_type": "code",
   "execution_count": 14,
   "metadata": {},
   "outputs": [
    {
     "name": "stdout",
     "output_type": "stream",
     "text": [
      "0.3532860768355649\n"
     ]
    }
   ],
   "source": [
    "print(groupcloseness_dict)"
   ]
  },
  {
   "cell_type": "code",
   "execution_count": 16,
   "metadata": {},
   "outputs": [],
   "source": [
    "D = ['926', '927', '928', '929', '930', '931', '932']"
   ]
  },
  {
   "cell_type": "code",
   "execution_count": 19,
   "metadata": {},
   "outputs": [],
   "source": [
    "groupcloseness_dict = nx.group_closeness_centrality(G,D)\n",
    "nx.set_node_attributes(G, groupcloseness_dict, 'groupcloseness')"
   ]
  },
  {
   "cell_type": "code",
   "execution_count": 20,
   "metadata": {},
   "outputs": [
    {
     "name": "stdout",
     "output_type": "stream",
     "text": [
      "0.341752839464316\n"
     ]
    }
   ],
   "source": [
    "print(groupcloseness_dict)"
   ]
  },
  {
   "cell_type": "code",
   "execution_count": 1,
   "metadata": {
    "scrolled": true
   },
   "outputs": [],
   "source": [
    "import math\n",
    "import matplotlib.pyplot as plt\n",
    "import networkx as nx\n",
    "\n",
    "\n",
    "n = 4039\n",
    "pvals=[]\n",
    "avgDegree = []\n",
    "NGbyN = []\n",
    "for i in range(0,51):\n",
    "    ptemp = (i/10)*(1/4038)\n",
    "    pvals.append(ptemp)\n",
    "    avgDegree.append(i/10)\n",
    "    \n",
    "for p in pvals:\n",
    "    G = nx.binomial_graph(n, p)\n",
    "    # identify largest connected component\n",
    "    Gcc = sorted(nx.connected_components(G), key=len, reverse=True)\n",
    "    G0 = G.subgraph(Gcc[0])\n",
    "    NGbyN.append(len(G0.nodes())/4039)"
   ]
  },
  {
   "cell_type": "code",
   "execution_count": 10,
   "metadata": {},
   "outputs": [
    {
     "name": "stdout",
     "output_type": "stream",
     "text": [
      "[0.0002475860361475613, 0.0007427581084426838, 0.0009903441445902451, 0.0019806882891804903, 0.002723446397623174, 0.003961376578360981, 0.005446892795246348, 0.0076751671205743995, 0.008665511265164644, 0.010398613518197574, 0.02698687794008418, 0.05149789551869274, 0.3693983659321614, 0.41099282000495174, 0.5075513741025006, 0.5904926962119337, 0.6513988611042337, 0.7142857142857143, 0.7246843278039119, 0.7395394899727655, 0.786085664768507, 0.8234711562267888, 0.8445159692993315, 0.8744738796731865, 0.8932904184204011, 0.9026986877940084, 0.9086407526615499, 0.9257241891557316, 0.9319138400594207, 0.9309234959148304, 0.9376083188908145, 0.9507303788066354, 0.955434513493439, 0.9589007179995048, 0.9591483040356524, 0.9660807130477841, 0.9660807130477841, 0.9737558801683585, 0.973508294132211, 0.9796979450359, 0.9839069076504086, 0.9839069076504086, 0.9848972517949988, 0.9844020797227037, 0.9893538004456549, 0.9878682842287695, 0.9891062144095073, 0.9903441445902451, 0.9923248328794256, 0.9913344887348353, 0.994305521168606]\n"
     ]
    }
   ],
   "source": [
    "print(NGbyN)"
   ]
  },
  {
   "cell_type": "code",
   "execution_count": 11,
   "metadata": {},
   "outputs": [
    {
     "name": "stdout",
     "output_type": "stream",
     "text": [
      "[0.0, 0.1, 0.2, 0.3, 0.4, 0.5, 0.6, 0.7, 0.8, 0.9, 1.0, 1.1, 1.2, 1.3, 1.4, 1.5, 1.6, 1.7, 1.8, 1.9, 2.0, 2.1, 2.2, 2.3, 2.4, 2.5, 2.6, 2.7, 2.8, 2.9, 3.0, 3.1, 3.2, 3.3, 3.4, 3.5, 3.6, 3.7, 3.8, 3.9, 4.0, 4.1, 4.2, 4.3, 4.4, 4.5, 4.6, 4.7, 4.8, 4.9, 5.0]\n"
     ]
    }
   ],
   "source": [
    "print(avgDegree)"
   ]
  },
  {
   "cell_type": "code",
   "execution_count": 12,
   "metadata": {},
   "outputs": [
    {
     "data": {
      "text/plain": [
       "[<matplotlib.lines.Line2D at 0x1a36cfdc730>]"
      ]
     },
     "execution_count": 12,
     "metadata": {},
     "output_type": "execute_result"
    },
    {
     "data": {
      "image/png": "[encoded data removed]",
      "text/plain": [
       "<Figure size 432x288 with 1 Axes>"
      ]
     },
     "metadata": {
      "needs_background": "light"
     },
     "output_type": "display_data"
    }
   ],
   "source": [
    "plt.plot(avgDegree, NGbyN)"
   ]
  },
  {
   "cell_type": "code",
   "execution_count": null,
   "metadata": {},
   "outputs": [],
   "source": []
  }
 ],
 "metadata": {
  "kernelspec": {
   "display_name": "Python 3",
   "language": "python",
   "name": "python3"
  },
  "language_info": {
   "codemirror_mode": {
    "name": "ipython",
    "version": 3
   },
   "file_extension": ".py",
   "mimetype": "text/x-python",
   "name": "python",
   "nbconvert_exporter": "python",
   "pygments_lexer": "ipython3",
   "version": "3.8.1"
  }
 },
 "nbformat": 4,
 "nbformat_minor": 4
}
