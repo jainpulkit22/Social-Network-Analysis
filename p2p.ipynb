{
 "cells": [
  {
   "cell_type": "code",
   "execution_count": 3,
   "metadata": {},
   "outputs": [],
   "source": [
    "import networkx as nx\n",
    "import math"
   ]
  },
  {
   "cell_type": "code",
   "execution_count": 4,
   "metadata": {},
   "outputs": [],
   "source": [
    "import csv"
   ]
  },
  {
   "cell_type": "code",
   "execution_count": 5,
   "metadata": {},
   "outputs": [],
   "source": [
    "from operator import itemgetter"
   ]
  },
  {
   "cell_type": "code",
   "execution_count": 7,
   "metadata": {},
   "outputs": [],
   "source": [
    "with open('p2p.csv', 'r') as edgecsv:\n",
    "    edgereader = csv.reader(edgecsv)\n",
    "    edges = [tuple(e) for e in edgereader][1:]"
   ]
  },
  {
   "cell_type": "code",
   "execution_count": 8,
   "metadata": {},
   "outputs": [
    {
     "name": "stdout",
     "output_type": "stream",
     "text": [
      "31839\n"
     ]
    }
   ],
   "source": [
    "print(len(edges))"
   ]
  },
  {
   "cell_type": "code",
   "execution_count": 9,
   "metadata": {},
   "outputs": [
    {
     "name": "stdout",
     "output_type": "stream",
     "text": [
      "('0', '1')\n"
     ]
    }
   ],
   "source": [
    "print(edges[0])"
   ]
  },
  {
   "cell_type": "code",
   "execution_count": 10,
   "metadata": {},
   "outputs": [],
   "source": [
    "G = nx.Graph()"
   ]
  },
  {
   "cell_type": "code",
   "execution_count": 11,
   "metadata": {},
   "outputs": [],
   "source": [
    "G.add_edges_from(edges)"
   ]
  },
  {
   "cell_type": "code",
   "execution_count": 12,
   "metadata": {},
   "outputs": [
    {
     "name": "stdout",
     "output_type": "stream",
     "text": [
      "Name: \n",
      "Type: Graph\n",
      "Number of nodes: 8846\n",
      "Number of edges: 31839\n",
      "Average degree:   7.1985\n"
     ]
    }
   ],
   "source": [
    "print(nx.info(G))"
   ]
  },
  {
   "cell_type": "code",
   "execution_count": 11,
   "metadata": {},
   "outputs": [
    {
     "name": "stdout",
     "output_type": "stream",
     "text": [
      "False\n"
     ]
    }
   ],
   "source": [
    "print(nx.is_connected(G))\n"
   ]
  },
  {
   "cell_type": "code",
   "execution_count": 12,
   "metadata": {},
   "outputs": [],
   "source": [
    "degree_dict = dict(G.degree(G.nodes()))\n",
    "nx.set_node_attributes(G, degree_dict, 'degree')"
   ]
  },
  {
   "cell_type": "code",
   "execution_count": 13,
   "metadata": {},
   "outputs": [
    {
     "name": "stdout",
     "output_type": "stream",
     "text": [
      "Top 10 nodes by degree:\n",
      "('842', 88)\n",
      "('386', 87)\n",
      "('1676', 86)\n",
      "('1020', 85)\n",
      "('226', 84)\n",
      "('222', 83)\n",
      "('227', 83)\n",
      "('223', 79)\n",
      "('876', 79)\n",
      "('391', 79)\n"
     ]
    }
   ],
   "source": [
    "sorted_degree = sorted(degree_dict.items(), key=itemgetter(1), reverse=True)\n",
    "print(\"Top 10 nodes by degree:\")\n",
    "for d in sorted_degree[:10]:\n",
    "    print(d)"
   ]
  },
  {
   "cell_type": "code",
   "execution_count": 14,
   "metadata": {},
   "outputs": [
    {
     "name": "stdout",
     "output_type": "stream",
     "text": [
      "Last 10 nodes by degree:\n",
      "('2', 1)\n",
      "('3326', 1)\n",
      "('15', 1)\n",
      "('18', 1)\n",
      "('770', 1)\n",
      "('27', 1)\n",
      "('29', 1)\n",
      "('3344', 1)\n",
      "('41', 1)\n",
      "('42', 1)\n"
     ]
    }
   ],
   "source": [
    "sorted_degree = sorted(degree_dict.items(), key=itemgetter(1), reverse=False)\n",
    "print(\"Last 10 nodes by degree:\")\n",
    "for d in sorted_degree[:10]:\n",
    "    print(d)"
   ]
  },
  {
   "cell_type": "code",
   "execution_count": 15,
   "metadata": {},
   "outputs": [],
   "source": [
    "eigenvector_dict = nx.eigenvector_centrality(G)"
   ]
  },
  {
   "cell_type": "code",
   "execution_count": 16,
   "metadata": {},
   "outputs": [],
   "source": [
    "nx.set_node_attributes(G, eigenvector_dict, 'eigenvector')"
   ]
  },
  {
   "cell_type": "code",
   "execution_count": 17,
   "metadata": {},
   "outputs": [],
   "source": [
    "sorted_eigenvector = sorted(eigenvector_dict.items(), key=itemgetter(1), reverse=True)"
   ]
  },
  {
   "cell_type": "code",
   "execution_count": 18,
   "metadata": {},
   "outputs": [
    {
     "name": "stdout",
     "output_type": "stream",
     "text": [
      "Top 10 nodes by eigenvector centrality:\n",
      "('226', 0.18149342749665104)\n",
      "('229', 0.18090041787442956)\n",
      "('225', 0.16180836014867905)\n",
      "('386', 0.15817263502928566)\n",
      "('389', 0.1511620883445164)\n",
      "('227', 0.15005089711432634)\n",
      "('385', 0.14426451286897135)\n",
      "('391', 0.14375207583186408)\n",
      "('1020', 0.14081059217192565)\n",
      "('222', 0.14020244721106373)\n"
     ]
    }
   ],
   "source": [
    "print(\"Top 10 nodes by eigenvector centrality:\")\n",
    "for b in sorted_eigenvector[:10]:\n",
    "    print(b)"
   ]
  },
  {
   "cell_type": "code",
   "execution_count": 19,
   "metadata": {},
   "outputs": [],
   "source": [
    "sorted_eigenvector = sorted(eigenvector_dict.items(), key=itemgetter(1), reverse=False)"
   ]
  },
  {
   "cell_type": "code",
   "execution_count": 20,
   "metadata": {},
   "outputs": [
    {
     "name": "stdout",
     "output_type": "stream",
     "text": [
      "Last 10 nodes by eigenvector centrality:\n",
      "('2509', 3.655140678655063e-39)\n",
      "('2510', 3.655140678655063e-39)\n",
      "('2925', 3.655140678655063e-39)\n",
      "('2926', 3.655140678655063e-39)\n",
      "('8578', 4.6141727822688194e-07)\n",
      "('8732', 5.781470821296491e-07)\n",
      "('8733', 5.781470821296491e-07)\n",
      "('4637', 8.445022619104398e-07)\n",
      "('3534', 9.108952237643848e-07)\n",
      "('8238', 1.0265800941423668e-06)\n"
     ]
    }
   ],
   "source": [
    "print(\"Last 10 nodes by eigenvector centrality:\")\n",
    "for b in sorted_eigenvector[:10]:\n",
    "    print(b)"
   ]
  },
  {
   "cell_type": "code",
   "execution_count": 21,
   "metadata": {},
   "outputs": [],
   "source": [
    "closeness_dict = nx.closeness_centrality(G)"
   ]
  },
  {
   "cell_type": "code",
   "execution_count": 22,
   "metadata": {},
   "outputs": [],
   "source": [
    "nx.set_node_attributes(G, closeness_dict, 'closeness')"
   ]
  },
  {
   "cell_type": "code",
   "execution_count": 23,
   "metadata": {},
   "outputs": [],
   "source": [
    "sorted_closeness = sorted(closeness_dict.items(), key=itemgetter(1), reverse=True)"
   ]
  },
  {
   "cell_type": "code",
   "execution_count": 25,
   "metadata": {},
   "outputs": [
    {
     "name": "stdout",
     "output_type": "stream",
     "text": [
      "Top 10 nodes by closeness centrality:\n",
      "('226', 0.29019446371113883)\n",
      "('31', 0.2896048308622796)\n",
      "('386', 0.289500468761068)\n",
      "('842', 0.28664574942202475)\n",
      "('391', 0.28537756923501906)\n",
      "('385', 0.28534071065326444)\n",
      "('3002', 0.28492670672034826)\n",
      "('229', 0.2848165084903987)\n",
      "('1676', 0.2844040232019696)\n",
      "('222', 0.28439487043193773)\n"
     ]
    }
   ],
   "source": [
    "print(\"Top 10 nodes by closeness centrality:\")\n",
    "for b in sorted_closeness[:10]:\n",
    "    print(b)"
   ]
  },
  {
   "cell_type": "code",
   "execution_count": 26,
   "metadata": {},
   "outputs": [],
   "source": [
    "sorted_closeness = sorted(closeness_dict.items(), key=itemgetter(1), reverse=False)"
   ]
  },
  {
   "cell_type": "code",
   "execution_count": 27,
   "metadata": {},
   "outputs": [
    {
     "name": "stdout",
     "output_type": "stream",
     "text": [
      "Last 10 nodes by closeness centrality:\n",
      "('2509', 0.00011305822498586772)\n",
      "('2510', 0.00011305822498586772)\n",
      "('2925', 0.00011305822498586772)\n",
      "('2926', 0.00011305822498586772)\n",
      "('8578', 0.1502610363525803)\n",
      "('8732', 0.1524409489206762)\n",
      "('8733', 0.1524409489206762)\n",
      "('4637', 0.1536950068513418)\n",
      "('3534', 0.15666498500064885)\n",
      "('5694', 0.15671777344349153)\n"
     ]
    }
   ],
   "source": [
    "print(\"Last 10 nodes by closeness centrality:\")\n",
    "for b in sorted_closeness[:10]:\n",
    "    print(b)"
   ]
  },
  {
   "cell_type": "code",
   "execution_count": 28,
   "metadata": {},
   "outputs": [],
   "source": [
    "betweenness_dict = nx.betweenness_centrality(G)"
   ]
  },
  {
   "cell_type": "code",
   "execution_count": 29,
   "metadata": {},
   "outputs": [],
   "source": [
    "nx.set_node_attributes(G, betweenness_dict, 'betweenness')"
   ]
  },
  {
   "cell_type": "code",
   "execution_count": 30,
   "metadata": {},
   "outputs": [],
   "source": [
    "sorted_betweenness = sorted(betweenness_dict.items(), key=itemgetter(1), reverse=True)"
   ]
  },
  {
   "cell_type": "code",
   "execution_count": 31,
   "metadata": {},
   "outputs": [
    {
     "name": "stdout",
     "output_type": "stream",
     "text": [
      "Top 10 nodes by betweenness centrality:\n",
      "('3002', 0.011401066276408892)\n",
      "('6319', 0.010579866441405461)\n",
      "('31', 0.010275146012456014)\n",
      "('876', 0.009718247379880434)\n",
      "('842', 0.00857496889133584)\n",
      "('3451', 0.008379061945904894)\n",
      "('223', 0.007967766064834684)\n",
      "('222', 0.007566358732209609)\n",
      "('387', 0.007474993329413221)\n",
      "('386', 0.007369796300675186)\n"
     ]
    }
   ],
   "source": [
    "print(\"Top 10 nodes by betweenness centrality:\")\n",
    "for b in sorted_betweenness[:10]:\n",
    "    print(b)"
   ]
  },
  {
   "cell_type": "code",
   "execution_count": 32,
   "metadata": {},
   "outputs": [],
   "source": [
    "sorted_betweenness = sorted(betweenness_dict.items(), key=itemgetter(1), reverse=False)"
   ]
  },
  {
   "cell_type": "code",
   "execution_count": 33,
   "metadata": {},
   "outputs": [
    {
     "name": "stdout",
     "output_type": "stream",
     "text": [
      "Last 10 nodes by betweenness centrality:\n",
      "('2', 0.0)\n",
      "('3326', 0.0)\n",
      "('15', 0.0)\n",
      "('18', 0.0)\n",
      "('770', 0.0)\n",
      "('27', 0.0)\n",
      "('29', 0.0)\n",
      "('3344', 0.0)\n",
      "('41', 0.0)\n",
      "('42', 0.0)\n"
     ]
    }
   ],
   "source": [
    "print(\"Last 10 nodes by betweenness centrality:\")\n",
    "for b in sorted_betweenness[:10]:\n",
    "    print(b)"
   ]
  },
  {
   "cell_type": "code",
   "execution_count": 45,
   "metadata": {},
   "outputs": [
    {
     "name": "stderr",
     "output_type": "stream",
     "text": [
      "c:\\python\\python38\\lib\\site-packages\\networkx\\algorithms\\centrality\\katz.py:183: ComplexWarning: Casting complex values to real discards the imaginary part\n",
      "  s = 1.0 / sqrt(sum(v ** 2 for v in x.values()))\n"
     ]
    }
   ],
   "source": [
    "phi = max(nx.adjacency_spectrum(G))\n",
    "katz_dict = nx.katz_centrality(G,1/phi - 0.01, 0.001)\n",
    "nx.set_node_attributes(G, katz_dict, 'katz')"
   ]
  },
  {
   "cell_type": "code",
   "execution_count": 46,
   "metadata": {},
   "outputs": [],
   "source": [
    "sorted_katz = sorted(katz_dict.items(), key=itemgetter(1), reverse=True)"
   ]
  },
  {
   "cell_type": "code",
   "execution_count": 47,
   "metadata": {},
   "outputs": [
    {
     "name": "stdout",
     "output_type": "stream",
     "text": [
      "Top 10 nodes by katz centrality:\n",
      "('226', (0.08587225360206784+0j))\n",
      "('229', (0.08155187015867225+0j))\n",
      "('386', (0.07716766308737867+0j))\n",
      "('225', (0.07663258741072528+0j))\n",
      "('391', (0.0747012993656387+0j))\n",
      "('227', (0.07365463171573579+0j))\n",
      "('1020', (0.07252898577567357+0j))\n",
      "('222', (0.07199845581480459+0j))\n",
      "('389', (0.07025206236345269+0j))\n",
      "('385', (0.0692568817371804+0j))\n"
     ]
    }
   ],
   "source": [
    "print(\"Top 10 nodes by katz centrality:\")\n",
    "for b in sorted_katz[:10]:\n",
    "    print(b)"
   ]
  },
  {
   "cell_type": "code",
   "execution_count": 48,
   "metadata": {},
   "outputs": [
    {
     "name": "stdout",
     "output_type": "stream",
     "text": [
      "Last 10 nodes by Katz centrality:\n",
      "('2509', (0.006366911962710664+0j))\n",
      "('2510', (0.006366911962710664+0j))\n",
      "('2925', (0.006366911962710664+0j))\n",
      "('2926', (0.006366911962710664+0j))\n",
      "('8578', (0.006375685542488591+0j))\n",
      "('1403', (0.006376327396756963+0j))\n",
      "('4637', (0.006376375596296256+0j))\n",
      "('5694', (0.006376969213733164+0j))\n",
      "('7088', (0.006377182997594581+0j))\n",
      "('8329', (0.006377262219452158+0j))\n"
     ]
    }
   ],
   "source": [
    "sorted_katz = sorted(katz_dict.items(), key=itemgetter(1), reverse=False)\n",
    "print(\"Last 10 nodes by Katz centrality:\")\n",
    "for b in sorted_katz[:10]:\n",
    "    print(b)"
   ]
  },
  {
   "cell_type": "code",
   "execution_count": 49,
   "metadata": {},
   "outputs": [],
   "source": [
    "pagerank_dict = nx.pagerank(G,0.9)\n",
    "nx.set_node_attributes(G, pagerank_dict, 'pagerank')"
   ]
  },
  {
   "cell_type": "code",
   "execution_count": 50,
   "metadata": {
    "scrolled": true
   },
   "outputs": [
    {
     "name": "stdout",
     "output_type": "stream",
     "text": [
      "Top 10 nodes by Pagerank centrality:\n",
      "('842', 0.001048561063451363)\n",
      "('1676', 0.0010246588526369477)\n",
      "('876', 0.0010151738592237346)\n",
      "('386', 0.0010145952111978846)\n",
      "('1020', 0.0010056356047199537)\n",
      "('222', 0.0009851945549063984)\n",
      "('227', 0.000972277941590989)\n",
      "('3002', 0.0009617173708668438)\n",
      "('226', 0.0009598863453080129)\n",
      "('223', 0.0009598357866484014)\n"
     ]
    }
   ],
   "source": [
    "sorted_pagerank = sorted(pagerank_dict.items(), key=itemgetter(1), reverse=True)\n",
    "print(\"Top 10 nodes by Pagerank centrality:\")\n",
    "for b in sorted_pagerank[:10]:\n",
    "    print(b)"
   ]
  },
  {
   "cell_type": "code",
   "execution_count": 51,
   "metadata": {},
   "outputs": [
    {
     "name": "stdout",
     "output_type": "stream",
     "text": [
      "Last 10 nodes by Pagerank centrality:\n",
      "('2473', 2.1965243649746297e-05)\n",
      "('2474', 2.1965243649746297e-05)\n",
      "('5842', 2.2046277361394975e-05)\n",
      "('3553', 2.208448523053847e-05)\n",
      "('3554', 2.208529310148371e-05)\n",
      "('3369', 2.2094308884910775e-05)\n",
      "('3612', 2.2158583029424405e-05)\n",
      "('3074', 2.2162306573750824e-05)\n",
      "('2171', 2.2233172350632354e-05)\n",
      "('575', 2.2256182662654674e-05)\n"
     ]
    }
   ],
   "source": [
    "sorted_pagerank = sorted(pagerank_dict.items(), key=itemgetter(1), reverse=False)\n",
    "print(\"Last 10 nodes by Pagerank centrality:\")\n",
    "for b in sorted_pagerank[:10]:\n",
    "    print(b)"
   ]
  },
  {
   "cell_type": "code",
   "execution_count": 16,
   "metadata": {},
   "outputs": [],
   "source": [
    "import math\n",
    "import matplotlib.pyplot as plt\n",
    "import networkx as nx\n",
    "n = 8846 \n",
    "pvals=[]\n",
    "avgDegree = []\n",
    "NGbyN = []\n",
    "for i in range(0,51):\n",
    "    ptemp = (i/10)*(1/8845)\n",
    "    pvals.append(ptemp)\n",
    "    avgDegree.append(i/10)\n",
    "for p in pvals:\n",
    "    G = nx.binomial_graph(n, p)\n",
    "    # identify largest connected component\n",
    "    Gcc = sorted(nx.connected_components(G), key=len, reverse=True)\n",
    "    G0 = G.subgraph(Gcc[0])\n",
    "    NGbyN.append(len(G0.nodes())/8846)"
   ]
  },
  {
   "cell_type": "code",
   "execution_count": 15,
   "metadata": {},
   "outputs": [
    {
     "data": {
      "text/plain": [
       "[<matplotlib.lines.Line2D at 0x1c892b4e580>]"
      ]
     },
     "execution_count": 15,
     "metadata": {},
     "output_type": "execute_result"
    },
    {
     "data": {
      "image/png": "[encoded data removed]",
      "text/plain": [
       "<Figure size 432x288 with 1 Axes>"
      ]
     },
     "metadata": {
      "needs_background": "light"
     },
     "output_type": "display_data"
    }
   ],
   "source": [
    "plt.plot(avgDegree, NGbyN)"
   ]
  },
  {
   "cell_type": "code",
   "execution_count": null,
   "metadata": {},
   "outputs": [],
   "source": []
  }
 ],
 "metadata": {
  "kernelspec": {
   "display_name": "Python 3",
   "language": "python",
   "name": "python3"
  },
  "language_info": {
   "codemirror_mode": {
    "name": "ipython",
    "version": 3
   },
   "file_extension": ".py",
   "mimetype": "text/x-python",
   "name": "python",
   "nbconvert_exporter": "python",
   "pygments_lexer": "ipython3",
   "version": "3.8.1"
  }
 },
 "nbformat": 4,
 "nbformat_minor": 4
}
